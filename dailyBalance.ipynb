{
 "cells": [
  {
   "cell_type": "code",
   "execution_count": 468,
   "metadata": {},
   "outputs": [],
   "source": [
    "import numpy as np\n",
    "import pandas as pd\n",
    "import datetime\n",
    "import time"
   ]
  },
  {
   "cell_type": "code",
   "execution_count": 469,
   "metadata": {},
   "outputs": [],
   "source": [
    "cust = pd.read_csv('customer_accounts.csv')\n",
    "acct = pd.read_csv('financials_accounts.csv')\n",
    "bal = pd.read_csv('financials_balances.csv',parse_dates = ['accrual_date'])\n",
    "txn = pd.read_csv('financials_transactions.csv',parse_dates = ['accrual_date'])"
   ]
  },
  {
   "cell_type": "code",
   "execution_count": 470,
   "metadata": {},
   "outputs": [
    {
     "data": {
      "text/html": [
       "<div>\n",
       "<style scoped>\n",
       "    .dataframe tbody tr th:only-of-type {\n",
       "        vertical-align: middle;\n",
       "    }\n",
       "\n",
       "    .dataframe tbody tr th {\n",
       "        vertical-align: top;\n",
       "    }\n",
       "\n",
       "    .dataframe thead th {\n",
       "        text-align: right;\n",
       "    }\n",
       "</style>\n",
       "<table border=\"1\" class=\"dataframe\">\n",
       "  <thead>\n",
       "    <tr style=\"text-align: right;\">\n",
       "      <th></th>\n",
       "      <th>id</th>\n",
       "      <th>customer_account_id</th>\n",
       "      <th>name</th>\n",
       "    </tr>\n",
       "  </thead>\n",
       "  <tbody>\n",
       "    <tr>\n",
       "      <th>0</th>\n",
       "      <td>finacc_ctzrz94k00051v354687jg1</td>\n",
       "      <td>aacc_c10cwqghq00001owfyvwq126</td>\n",
       "      <td>Bank account 1</td>\n",
       "    </tr>\n",
       "    <tr>\n",
       "      <th>1</th>\n",
       "      <td>finacc_ctzrz8vz00031v3wyouo0dk</td>\n",
       "      <td>aacc_c10cwqghq00001owfyvwq126</td>\n",
       "      <td>Bank account 2</td>\n",
       "    </tr>\n",
       "    <tr>\n",
       "      <th>2</th>\n",
       "      <td>finacc_ctzrz91d00041v3h6cklh2s</td>\n",
       "      <td>aacc_c10cwqghq00001owfyvwq126</td>\n",
       "      <td>Bank account 3</td>\n",
       "    </tr>\n",
       "    <tr>\n",
       "      <th>3</th>\n",
       "      <td>finacc_ctzrz98x00071v3k3hz7qls</td>\n",
       "      <td>aacc_c10cwqghq00001owfyvwq126</td>\n",
       "      <td>Bank account 4</td>\n",
       "    </tr>\n",
       "    <tr>\n",
       "      <th>4</th>\n",
       "      <td>finacc_ctzrz9aw00081v3ghgxf64s</td>\n",
       "      <td>aacc_c10cwqghq00001owfyvwq126</td>\n",
       "      <td>Bank account 5</td>\n",
       "    </tr>\n",
       "  </tbody>\n",
       "</table>\n",
       "</div>"
      ],
      "text/plain": [
       "                               id            customer_account_id  \\\n",
       "0  finacc_ctzrz94k00051v354687jg1  aacc_c10cwqghq00001owfyvwq126   \n",
       "1  finacc_ctzrz8vz00031v3wyouo0dk  aacc_c10cwqghq00001owfyvwq126   \n",
       "2  finacc_ctzrz91d00041v3h6cklh2s  aacc_c10cwqghq00001owfyvwq126   \n",
       "3  finacc_ctzrz98x00071v3k3hz7qls  aacc_c10cwqghq00001owfyvwq126   \n",
       "4  finacc_ctzrz9aw00081v3ghgxf64s  aacc_c10cwqghq00001owfyvwq126   \n",
       "\n",
       "             name  \n",
       "0  Bank account 1  \n",
       "1  Bank account 2  \n",
       "2  Bank account 3  \n",
       "3  Bank account 4  \n",
       "4  Bank account 5  "
      ]
     },
     "execution_count": 470,
     "metadata": {},
     "output_type": "execute_result"
    }
   ],
   "source": [
    "acct.head()"
   ]
  },
  {
   "cell_type": "code",
   "execution_count": 471,
   "metadata": {},
   "outputs": [
    {
     "data": {
      "text/html": [
       "<div>\n",
       "<style scoped>\n",
       "    .dataframe tbody tr th:only-of-type {\n",
       "        vertical-align: middle;\n",
       "    }\n",
       "\n",
       "    .dataframe tbody tr th {\n",
       "        vertical-align: top;\n",
       "    }\n",
       "\n",
       "    .dataframe thead th {\n",
       "        text-align: right;\n",
       "    }\n",
       "</style>\n",
       "<table border=\"1\" class=\"dataframe\">\n",
       "  <thead>\n",
       "    <tr style=\"text-align: right;\">\n",
       "      <th></th>\n",
       "      <th>id_x</th>\n",
       "      <th>customer_account_id</th>\n",
       "      <th>name_x</th>\n",
       "      <th>id_y</th>\n",
       "      <th>name_y</th>\n",
       "    </tr>\n",
       "  </thead>\n",
       "  <tbody>\n",
       "    <tr>\n",
       "      <th>0</th>\n",
       "      <td>finacc_ctzrz94k00051v354687jg1</td>\n",
       "      <td>aacc_c10cwqghq00001owfyvwq126</td>\n",
       "      <td>Bank account 1</td>\n",
       "      <td>aacc_c10cwqghq00001owfyvwq126</td>\n",
       "      <td>Customer account 1</td>\n",
       "    </tr>\n",
       "    <tr>\n",
       "      <th>1</th>\n",
       "      <td>finacc_ctzrz8vz00031v3wyouo0dk</td>\n",
       "      <td>aacc_c10cwqghq00001owfyvwq126</td>\n",
       "      <td>Bank account 2</td>\n",
       "      <td>aacc_c10cwqghq00001owfyvwq126</td>\n",
       "      <td>Customer account 1</td>\n",
       "    </tr>\n",
       "    <tr>\n",
       "      <th>2</th>\n",
       "      <td>finacc_ctzrz91d00041v3h6cklh2s</td>\n",
       "      <td>aacc_c10cwqghq00001owfyvwq126</td>\n",
       "      <td>Bank account 3</td>\n",
       "      <td>aacc_c10cwqghq00001owfyvwq126</td>\n",
       "      <td>Customer account 1</td>\n",
       "    </tr>\n",
       "    <tr>\n",
       "      <th>3</th>\n",
       "      <td>finacc_ctzrz98x00071v3k3hz7qls</td>\n",
       "      <td>aacc_c10cwqghq00001owfyvwq126</td>\n",
       "      <td>Bank account 4</td>\n",
       "      <td>aacc_c10cwqghq00001owfyvwq126</td>\n",
       "      <td>Customer account 1</td>\n",
       "    </tr>\n",
       "    <tr>\n",
       "      <th>4</th>\n",
       "      <td>finacc_ctzrz9aw00081v3ghgxf64s</td>\n",
       "      <td>aacc_c10cwqghq00001owfyvwq126</td>\n",
       "      <td>Bank account 5</td>\n",
       "      <td>aacc_c10cwqghq00001owfyvwq126</td>\n",
       "      <td>Customer account 1</td>\n",
       "    </tr>\n",
       "  </tbody>\n",
       "</table>\n",
       "</div>"
      ],
      "text/plain": [
       "                             id_x            customer_account_id  \\\n",
       "0  finacc_ctzrz94k00051v354687jg1  aacc_c10cwqghq00001owfyvwq126   \n",
       "1  finacc_ctzrz8vz00031v3wyouo0dk  aacc_c10cwqghq00001owfyvwq126   \n",
       "2  finacc_ctzrz91d00041v3h6cklh2s  aacc_c10cwqghq00001owfyvwq126   \n",
       "3  finacc_ctzrz98x00071v3k3hz7qls  aacc_c10cwqghq00001owfyvwq126   \n",
       "4  finacc_ctzrz9aw00081v3ghgxf64s  aacc_c10cwqghq00001owfyvwq126   \n",
       "\n",
       "           name_x                           id_y              name_y  \n",
       "0  Bank account 1  aacc_c10cwqghq00001owfyvwq126  Customer account 1  \n",
       "1  Bank account 2  aacc_c10cwqghq00001owfyvwq126  Customer account 1  \n",
       "2  Bank account 3  aacc_c10cwqghq00001owfyvwq126  Customer account 1  \n",
       "3  Bank account 4  aacc_c10cwqghq00001owfyvwq126  Customer account 1  \n",
       "4  Bank account 5  aacc_c10cwqghq00001owfyvwq126  Customer account 1  "
      ]
     },
     "execution_count": 471,
     "metadata": {},
     "output_type": "execute_result"
    }
   ],
   "source": [
    "acct = acct.merge(cust, how='left',left_on='customer_account_id',right_on='id')\n",
    "#aading customer info from customer_account table on account id table\n",
    "acct.head()"
   ]
  },
  {
   "cell_type": "markdown",
   "metadata": {},
   "source": [
    "* Taking customer_accounts table as masterlist. Only calculating daily balance info for customers in this table."
   ]
  },
  {
   "cell_type": "code",
   "execution_count": 472,
   "metadata": {},
   "outputs": [],
   "source": [
    "acct=acct.drop('id_y',1)"
   ]
  },
  {
   "cell_type": "code",
   "execution_count": 473,
   "metadata": {},
   "outputs": [],
   "source": [
    "acct = acct.dropna(subset=['name_y'])\n",
    "#dropping accounts for customers who are not in customer_accounts table"
   ]
  },
  {
   "cell_type": "code",
   "execution_count": 474,
   "metadata": {},
   "outputs": [],
   "source": [
    "acct.columns=['account_id','customer_account_id','bank_name','customer_name']"
   ]
  },
  {
   "cell_type": "code",
   "execution_count": 475,
   "metadata": {},
   "outputs": [],
   "source": [
    "bal = bal.merge(acct[['account_id','customer_account_id']],how='left',on='account_id')\n",
    "#adding customer account id to balance table"
   ]
  },
  {
   "cell_type": "code",
   "execution_count": 476,
   "metadata": {},
   "outputs": [],
   "source": [
    "bal = bal.dropna(subset=['customer_account_id'])\n",
    "#dropping balance info for accounts not in customer_accounts table"
   ]
  },
  {
   "cell_type": "markdown",
   "metadata": {},
   "source": [
    "* One customer can have multiple accounts.\n",
    "* Balance per customer is needed, hence grouping by and summing balance and transaction info for each customer-date combination"
   ]
  },
  {
   "cell_type": "code",
   "execution_count": 477,
   "metadata": {},
   "outputs": [],
   "source": [
    "balGrp = bal.groupby(['customer_account_id','accrual_date'])"
   ]
  },
  {
   "cell_type": "code",
   "execution_count": 478,
   "metadata": {},
   "outputs": [],
   "source": [
    "dailyBal = balGrp['amount'].sum().reset_index()\n",
    "# summing balance info for each customer-date "
   ]
  },
  {
   "cell_type": "code",
   "execution_count": 479,
   "metadata": {},
   "outputs": [],
   "source": [
    "txn = txn.merge(acct[['account_id','customer_account_id']],how='left',on='account_id')"
   ]
  },
  {
   "cell_type": "code",
   "execution_count": 480,
   "metadata": {},
   "outputs": [],
   "source": [
    "txn = txn.dropna(subset=['customer_account_id'])"
   ]
  },
  {
   "cell_type": "code",
   "execution_count": 481,
   "metadata": {},
   "outputs": [],
   "source": [
    "txnGrp = txn.groupby(['customer_account_id','accrual_date'])"
   ]
  },
  {
   "cell_type": "code",
   "execution_count": 482,
   "metadata": {},
   "outputs": [],
   "source": [
    "dailyTxn = txnGrp['amount'].sum().reset_index()\n",
    "# summing transaction info for each customer-date "
   ]
  },
  {
   "cell_type": "code",
   "execution_count": 483,
   "metadata": {},
   "outputs": [],
   "source": [
    "dailyTxn['combo'] = dailyTxn.customer_account_id+dailyTxn.accrual_date.astype('str') \n",
    "dailyBal['combo'] = dailyBal.customer_account_id+dailyBal.accrual_date.astype('str') \n",
    "# concatinating account id and date to make it easier to look up "
   ]
  },
  {
   "cell_type": "code",
   "execution_count": 484,
   "metadata": {},
   "outputs": [],
   "source": [
    "customerList = dailyTxn.customer_account_id.append(dailyBal.customer_account_id)\n",
    "#Only accounting for customer id s that have at least one balance reading or one transaction"
   ]
  },
  {
   "cell_type": "code",
   "execution_count": 485,
   "metadata": {},
   "outputs": [],
   "source": [
    "customerList = customerList.unique()"
   ]
  },
  {
   "cell_type": "markdown",
   "metadata": {},
   "source": [
    "#### Creating Table with each customer's earliest transaction or balance date"
   ]
  },
  {
   "cell_type": "code",
   "execution_count": 486,
   "metadata": {},
   "outputs": [],
   "source": [
    "minMaxDate = pd.DataFrame(data=customerList,columns=['customer_account_id'])"
   ]
  },
  {
   "cell_type": "code",
   "execution_count": 487,
   "metadata": {},
   "outputs": [],
   "source": [
    "def minBalanceDateFn(x):\n",
    "    if x not in np.array(dailyBal.customer_account_id):\n",
    "        a = dailyTxn[dailyTxn.customer_account_id==x]['accrual_date'].nsmallest(1)\n",
    "        return (a.iloc[0])\n",
    "    if x not in np.array(dailyTxn.customer_account_id):\n",
    "        b = dailyBal[dailyBal.customer_account_id==x]['accrual_date'].nsmallest(1)\n",
    "        return (b.iloc[0])\n",
    "    a = dailyBal[dailyBal.customer_account_id==x]['accrual_date'].nsmallest(1)\n",
    "    b = dailyTxn[dailyTxn.customer_account_id==x]['accrual_date'].nsmallest(1)\n",
    "    return (min(a.iloc[0],b.iloc[0]))"
   ]
  },
  {
   "cell_type": "code",
   "execution_count": 488,
   "metadata": {},
   "outputs": [
    {
     "data": {
      "text/html": [
       "<div>\n",
       "<style scoped>\n",
       "    .dataframe tbody tr th:only-of-type {\n",
       "        vertical-align: middle;\n",
       "    }\n",
       "\n",
       "    .dataframe tbody tr th {\n",
       "        vertical-align: top;\n",
       "    }\n",
       "\n",
       "    .dataframe thead th {\n",
       "        text-align: right;\n",
       "    }\n",
       "</style>\n",
       "<table border=\"1\" class=\"dataframe\">\n",
       "  <thead>\n",
       "    <tr style=\"text-align: right;\">\n",
       "      <th></th>\n",
       "      <th>id</th>\n",
       "      <th>account_id</th>\n",
       "      <th>amount</th>\n",
       "      <th>accrual_date</th>\n",
       "      <th>customer_account_id</th>\n",
       "    </tr>\n",
       "  </thead>\n",
       "  <tbody>\n",
       "    <tr>\n",
       "      <th>193071</th>\n",
       "      <td>finblce_ckkrwpd6natl7pvmj5td9or</td>\n",
       "      <td>finacc_cvjmalvl001gf1vwbf5rwjrw</td>\n",
       "      <td>1569009</td>\n",
       "      <td>2018-09-22</td>\n",
       "      <td>cuacc_cvjghnrha00l21wt2kq3dnr8</td>\n",
       "    </tr>\n",
       "    <tr>\n",
       "      <th>193070</th>\n",
       "      <td>finblce_ckkp6cpznan47pvda5stsox</td>\n",
       "      <td>finacc_cvjmalcyb01gd1vw6gcputju</td>\n",
       "      <td>135002424</td>\n",
       "      <td>2018-09-22</td>\n",
       "      <td>cuacc_cvjghnrha00l21wt2kq3dnr8</td>\n",
       "    </tr>\n",
       "    <tr>\n",
       "      <th>191111</th>\n",
       "      <td>finblce_ci38bfte6xs47pv4ygemji8</td>\n",
       "      <td>finacc_c8b3tx2wd03fi1u9r8ioium3</td>\n",
       "      <td>17341733</td>\n",
       "      <td>2018-09-22</td>\n",
       "      <td>cuacc_c70dmcdk204fn11m6b2qxg01</td>\n",
       "    </tr>\n",
       "    <tr>\n",
       "      <th>191988</th>\n",
       "      <td>finblce_cj3o5r0fdiwa7pvsjibnjac</td>\n",
       "      <td>finacc_cjbdvkbhu006f1wvswp8ybyr</td>\n",
       "      <td>6662014</td>\n",
       "      <td>2018-09-22</td>\n",
       "      <td>cuacc_c62m5io280cg81xb532uctag</td>\n",
       "    </tr>\n",
       "    <tr>\n",
       "      <th>191746</th>\n",
       "      <td>finblce_citqvyrjbnf97pv89g9gn0q</td>\n",
       "      <td>finacc_cg192y596000l1umlxludzzy</td>\n",
       "      <td>85579577</td>\n",
       "      <td>2018-09-22</td>\n",
       "      <td>cuacc_ccxw7gf6u00c913795io7ct0</td>\n",
       "    </tr>\n",
       "  </tbody>\n",
       "</table>\n",
       "</div>"
      ],
      "text/plain": [
       "                                     id                       account_id  \\\n",
       "193071  finblce_ckkrwpd6natl7pvmj5td9or  finacc_cvjmalvl001gf1vwbf5rwjrw   \n",
       "193070  finblce_ckkp6cpznan47pvda5stsox  finacc_cvjmalcyb01gd1vw6gcputju   \n",
       "191111  finblce_ci38bfte6xs47pv4ygemji8  finacc_c8b3tx2wd03fi1u9r8ioium3   \n",
       "191988  finblce_cj3o5r0fdiwa7pvsjibnjac  finacc_cjbdvkbhu006f1wvswp8ybyr   \n",
       "191746  finblce_citqvyrjbnf97pv89g9gn0q  finacc_cg192y596000l1umlxludzzy   \n",
       "\n",
       "           amount accrual_date             customer_account_id  \n",
       "193071    1569009   2018-09-22  cuacc_cvjghnrha00l21wt2kq3dnr8  \n",
       "193070  135002424   2018-09-22  cuacc_cvjghnrha00l21wt2kq3dnr8  \n",
       "191111   17341733   2018-09-22  cuacc_c70dmcdk204fn11m6b2qxg01  \n",
       "191988    6662014   2018-09-22  cuacc_c62m5io280cg81xb532uctag  \n",
       "191746   85579577   2018-09-22  cuacc_ccxw7gf6u00c913795io7ct0  "
      ]
     },
     "execution_count": 488,
     "metadata": {},
     "output_type": "execute_result"
    }
   ],
   "source": [
    "bal.sort_values(by='accrual_date').tail()"
   ]
  },
  {
   "cell_type": "markdown",
   "metadata": {},
   "source": [
    "* Max Date is taken to be by default the last known transaction/balance date for any account; which is 2018-09-22"
   ]
  },
  {
   "cell_type": "code",
   "execution_count": 489,
   "metadata": {},
   "outputs": [],
   "source": [
    "endDate = bal.sort_values(by='accrual_date').tail().iloc[1,3]\n",
    "#assigning last date to a variable "
   ]
  },
  {
   "cell_type": "code",
   "execution_count": 490,
   "metadata": {},
   "outputs": [],
   "source": [
    "minMaxDate['minDate']=minMaxDate.customer_account_id.apply(minBalanceDateFn)"
   ]
  },
  {
   "cell_type": "code",
   "execution_count": 491,
   "metadata": {},
   "outputs": [],
   "source": [
    "minMaxDate['combo'] = minMaxDate.customer_account_id+minMaxDate.minDate.astype('str') "
   ]
  },
  {
   "cell_type": "code",
   "execution_count": 492,
   "metadata": {},
   "outputs": [],
   "source": [
    "minMaxDate['flag']=1"
   ]
  },
  {
   "cell_type": "markdown",
   "metadata": {},
   "source": [
    "#### Creating a template called dailyBalance with each customer ID and Date for which balance info will be populated"
   ]
  },
  {
   "cell_type": "code",
   "execution_count": 493,
   "metadata": {},
   "outputs": [],
   "source": [
    "dailyBalance = pd.DataFrame(columns = ['date','customer_account_id'])"
   ]
  },
  {
   "cell_type": "code",
   "execution_count": 494,
   "metadata": {},
   "outputs": [
    {
     "name": "stderr",
     "output_type": "stream",
     "text": [
      "c:\\users\\yash.khullar\\appdata\\local\\continuum\\anaconda3\\lib\\site-packages\\ipykernel\\__main__.py:2: FutureWarning: get_value is deprecated and will be removed in a future release. Please use .at[] or .iat[] accessors instead\n",
      "  from ipykernel import kernelapp as app\n",
      "c:\\users\\yash.khullar\\appdata\\local\\continuum\\anaconda3\\lib\\site-packages\\ipykernel\\__main__.py:4: FutureWarning: get_value is deprecated and will be removed in a future release. Please use .at[] or .iat[] accessors instead\n"
     ]
    }
   ],
   "source": [
    "for i in range(len(minMaxDate)):\n",
    "    dateRange = pd.date_range(start=minMaxDate.get_value(i,'minDate'),end=endDate)\n",
    "    tempDf = pd.DataFrame(data = dateRange,columns = ['date'])\n",
    "    tempDf['customer_account_id'] = minMaxDate.get_value(i,'customer_account_id')\n",
    "    dailyBalance = dailyBalance.append(tempDf)\n",
    "\n",
    "#.get_value and .set_value are used since they are considerably faster than the alternatives (.at or .loc)"
   ]
  },
  {
   "cell_type": "markdown",
   "metadata": {},
   "source": [
    "* Balance info will be reported from the account's first day of noted activity (minimum of first balance date and first transaction date) to a standard end date of 2018-09-22. \n",
    "* Above template - dailyBalance contains all possible customer id-date combinations for which balance information is needed"
   ]
  },
  {
   "cell_type": "code",
   "execution_count": 495,
   "metadata": {},
   "outputs": [],
   "source": [
    "dailyBalance['combo'] = dailyBalance.customer_account_id+dailyBalance.date.astype('str') "
   ]
  },
  {
   "cell_type": "code",
   "execution_count": 496,
   "metadata": {},
   "outputs": [],
   "source": [
    "dailyBalance = dailyBalance.merge(dailyBal[['combo','amount']], how='left', on = 'combo')\n",
    "#adding exisiting balance info on to dailyBalance"
   ]
  },
  {
   "cell_type": "code",
   "execution_count": 497,
   "metadata": {},
   "outputs": [],
   "source": [
    "dailyBalance.rename({'amount': 'balance'}, axis=1, inplace=True)"
   ]
  },
  {
   "cell_type": "code",
   "execution_count": 498,
   "metadata": {},
   "outputs": [],
   "source": [
    "dailyBalance = dailyBalance.merge(dailyTxn[['combo','amount']], how='left', on = 'combo')\n",
    "#adding exisiting transaction info on to dailyBalance"
   ]
  },
  {
   "cell_type": "code",
   "execution_count": 499,
   "metadata": {},
   "outputs": [],
   "source": [
    "dailyBalance.rename({'amount': 'txn'}, axis=1, inplace=True)"
   ]
  },
  {
   "cell_type": "code",
   "execution_count": 500,
   "metadata": {},
   "outputs": [],
   "source": [
    "dailyBalance.txn.fillna(0,inplace=True)\n",
    "#none transaction value is assumed to be 0"
   ]
  },
  {
   "cell_type": "code",
   "execution_count": 501,
   "metadata": {},
   "outputs": [],
   "source": [
    "dailyBalance = dailyBalance.merge(minMaxDate[['combo','flag']], how='left',on='combo')\n",
    "# adding a flag which signifies if a certain customer-date combo is the first noted activity of that customer"
   ]
  },
  {
   "cell_type": "code",
   "execution_count": 502,
   "metadata": {},
   "outputs": [],
   "source": [
    "dailyBalance.sort_values(by=['customer_account_id','date'],inplace=True)"
   ]
  },
  {
   "cell_type": "code",
   "execution_count": 503,
   "metadata": {},
   "outputs": [
    {
     "name": "stderr",
     "output_type": "stream",
     "text": [
      "c:\\users\\yash.khullar\\appdata\\local\\continuum\\anaconda3\\lib\\site-packages\\ipykernel\\__main__.py:2: FutureWarning: get_value is deprecated and will be removed in a future release. Please use .at[] or .iat[] accessors instead\n",
      "  from ipykernel import kernelapp as app\n",
      "c:\\users\\yash.khullar\\appdata\\local\\continuum\\anaconda3\\lib\\site-packages\\ipykernel\\__main__.py:5: FutureWarning: get_value is deprecated and will be removed in a future release. Please use .at[] or .iat[] accessors instead\n",
      "c:\\users\\yash.khullar\\appdata\\local\\continuum\\anaconda3\\lib\\site-packages\\ipykernel\\__main__.py:6: FutureWarning: get_value is deprecated and will be removed in a future release. Please use .at[] or .iat[] accessors instead\n",
      "c:\\users\\yash.khullar\\appdata\\local\\continuum\\anaconda3\\lib\\site-packages\\ipykernel\\__main__.py:6: FutureWarning: set_value is deprecated and will be removed in a future release. Please use .at[] or .iat[] accessors instead\n",
      "c:\\users\\yash.khullar\\appdata\\local\\continuum\\anaconda3\\lib\\site-packages\\ipykernel\\__main__.py:8: FutureWarning: get_value is deprecated and will be removed in a future release. Please use .at[] or .iat[] accessors instead\n",
      "c:\\users\\yash.khullar\\appdata\\local\\continuum\\anaconda3\\lib\\site-packages\\ipykernel\\__main__.py:8: FutureWarning: set_value is deprecated and will be removed in a future release. Please use .at[] or .iat[] accessors instead\n"
     ]
    }
   ],
   "source": [
    "for i in range(len(dailyBalance)):\n",
    "    if pd.isna(dailyBalance.get_value(i,'balance'))==False:\n",
    "        continue\n",
    "    else:\n",
    "        if dailyBalance.get_value(i,'flag')==1:\n",
    "            dailyBalance.set_value(i,'balance',dailyBalance.get_value(i,'txn'))\n",
    "        else:\n",
    "            dailyBalance.set_value(i,'balance',(dailyBalance.get_value(i-1,'balance')+dailyBalance.get_value(i,'txn')))\n",
    "#.get_value and .set_value are used since they are considerably faster than the alternatives (.at or .loc)"
   ]
  },
  {
   "cell_type": "markdown",
   "metadata": {},
   "source": [
    "#### Logic in words\n",
    "* If balance info already exists, that value is taken to be final (regardless of any prior balance/transaction info)\n",
    "* If balance info does not exist, and it is the customer's first date of account activity, then balance is equal to the day's transaction value. Unless first balance info is provided, first day opening balance is assumed to be 0\n",
    "* If balance info does not exist, and it is NOT the customer's first day of account activity, then balance is equal to the day's transaction value added to the previous day's account balance (day1 balance = day1 transaction + day0 balance)"
   ]
  },
  {
   "cell_type": "code",
   "execution_count": 506,
   "metadata": {},
   "outputs": [],
   "source": [
    "result = dailyBalance.drop(['combo','txn','flag'],1)"
   ]
  },
  {
   "cell_type": "code",
   "execution_count": 508,
   "metadata": {},
   "outputs": [],
   "source": [
    "result.to_csv('FinalResult.csv')"
   ]
  },
  {
   "cell_type": "code",
   "execution_count": null,
   "metadata": {},
   "outputs": [],
   "source": []
  }
 ],
 "metadata": {
  "anaconda-cloud": {},
  "kernelspec": {
   "display_name": "Python [default]",
   "language": "python",
   "name": "python3"
  },
  "language_info": {
   "codemirror_mode": {
    "name": "ipython",
    "version": 3
   },
   "file_extension": ".py",
   "mimetype": "text/x-python",
   "name": "python",
   "nbconvert_exporter": "python",
   "pygments_lexer": "ipython3",
   "version": "3.5.2"
  }
 },
 "nbformat": 4,
 "nbformat_minor": 2
}
